{
 "cells": [
  {
   "cell_type": "code",
   "execution_count": 1,
   "metadata": {},
   "outputs": [
    {
     "name": "stdout",
     "output_type": "stream",
     "text": [
      "env: WANDB_PROJECT=StackOverflow\n"
     ]
    }
   ],
   "source": [
    "%env WANDB_PROJECT=StackOverflow"
   ]
  },
  {
   "cell_type": "code",
   "execution_count": 2,
   "metadata": {},
   "outputs": [],
   "source": [
    "import os\n",
    "\n",
    "import matplotlib.pyplot as plt\n",
    "import numpy as np\n",
    "import pandas as pd\n",
    "import torch\n",
    "from datasets import Dataset, DatasetDict\n",
    "from dateutil.parser import parse\n",
    "from sklearn.metrics import accuracy_score, f1_score, roc_auc_score\n",
    "from transformers import (AutoModelForSequenceClassification, AutoTokenizer,\n",
    "                          EarlyStoppingCallback, EvalPrediction)\n",
    "from transformers.integrations import TensorBoardCallback\n",
    "\n",
    "# increase the row lenght in pandas\n",
    "pd.set_option('display.max_colwidth', 512)\n",
    "os.environ['TOKENIZERS_PARALLELISM'] = 'true'"
   ]
  },
  {
   "cell_type": "code",
   "execution_count": 3,
   "metadata": {},
   "outputs": [
    {
     "data": {
      "text/html": [
       "<div>\n",
       "<style scoped>\n",
       "    .dataframe tbody tr th:only-of-type {\n",
       "        vertical-align: middle;\n",
       "    }\n",
       "\n",
       "    .dataframe tbody tr th {\n",
       "        vertical-align: top;\n",
       "    }\n",
       "\n",
       "    .dataframe thead th {\n",
       "        text-align: right;\n",
       "    }\n",
       "</style>\n",
       "<table border=\"1\" class=\"dataframe\">\n",
       "  <thead>\n",
       "    <tr style=\"text-align: right;\">\n",
       "      <th></th>\n",
       "      <th>ID</th>\n",
       "      <th>CREATIONDATE</th>\n",
       "      <th>SCORE</th>\n",
       "      <th>TITLE</th>\n",
       "      <th>TAGS</th>\n",
       "    </tr>\n",
       "  </thead>\n",
       "  <tbody>\n",
       "    <tr>\n",
       "      <th>0</th>\n",
       "      <td>1722730</td>\n",
       "      <td>2009-11-12T14:51:00.663Z</td>\n",
       "      <td>4</td>\n",
       "      <td>File paths in Java (Linux)</td>\n",
       "      <td>|java|linux|file-io|</td>\n",
       "    </tr>\n",
       "    <tr>\n",
       "      <th>1</th>\n",
       "      <td>1722749</td>\n",
       "      <td>2009-11-12T14:53:22.077Z</td>\n",
       "      <td>213</td>\n",
       "      <td>How to use RSpec's should_raise with any kind of exception?</td>\n",
       "      <td>|ruby-on-rails|ruby|exception|rspec|</td>\n",
       "    </tr>\n",
       "    <tr>\n",
       "      <th>2</th>\n",
       "      <td>1722795</td>\n",
       "      <td>2009-11-12T14:58:42.723Z</td>\n",
       "      <td>23</td>\n",
       "      <td>iOS UINavigationBar vs UIToolbar vs UITabBar</td>\n",
       "      <td>|ios|iphone|xcode|interface-builder|</td>\n",
       "    </tr>\n",
       "    <tr>\n",
       "      <th>3</th>\n",
       "      <td>1722855</td>\n",
       "      <td>2009-11-12T15:06:37.717Z</td>\n",
       "      <td>1</td>\n",
       "      <td>In swing GUI how to show a JPanel as maximized when the user clicks a button?</td>\n",
       "      <td>|java|swing|jpanel|</td>\n",
       "    </tr>\n",
       "    <tr>\n",
       "      <th>4</th>\n",
       "      <td>1722863</td>\n",
       "      <td>2009-11-12T15:07:59.473Z</td>\n",
       "      <td>1</td>\n",
       "      <td>How to click a link from javascript</td>\n",
       "      <td>|javascript|</td>\n",
       "    </tr>\n",
       "    <tr>\n",
       "      <th>5</th>\n",
       "      <td>1722864</td>\n",
       "      <td>2009-11-12T15:08:16.403Z</td>\n",
       "      <td>5</td>\n",
       "      <td>Disable default ALT key action in JFrame under Windows</td>\n",
       "      <td>|java|windows|swing|</td>\n",
       "    </tr>\n",
       "    <tr>\n",
       "      <th>6</th>\n",
       "      <td>1722865</td>\n",
       "      <td>2009-11-12T15:08:47.803Z</td>\n",
       "      <td>1</td>\n",
       "      <td>Twisted/tkinter program crashes on exit</td>\n",
       "      <td>|python|twisted|tkinter|</td>\n",
       "    </tr>\n",
       "    <tr>\n",
       "      <th>7</th>\n",
       "      <td>1722896</td>\n",
       "      <td>2009-11-12T15:12:12.54Z</td>\n",
       "      <td>43</td>\n",
       "      <td>VB to C# Functions</td>\n",
       "      <td>|c#|vb.net|operators|vb.net-to-c#|</td>\n",
       "    </tr>\n",
       "    <tr>\n",
       "      <th>8</th>\n",
       "      <td>1722901</td>\n",
       "      <td>2009-11-12T15:12:40.183Z</td>\n",
       "      <td>1</td>\n",
       "      <td>Is the first entry in sys.path supposed to represent the current working directory?</td>\n",
       "      <td>|python|pythonpath|sys.path|</td>\n",
       "    </tr>\n",
       "    <tr>\n",
       "      <th>9</th>\n",
       "      <td>1722916</td>\n",
       "      <td>2009-11-12T15:14:29.37Z</td>\n",
       "      <td>2</td>\n",
       "      <td>how to link c++ program with HTML page?</td>\n",
       "      <td>|c++|html|c|</td>\n",
       "    </tr>\n",
       "  </tbody>\n",
       "</table>\n",
       "</div>"
      ],
      "text/plain": [
       "        ID              CREATIONDATE  SCORE   \n",
       "0  1722730  2009-11-12T14:51:00.663Z      4  \\\n",
       "1  1722749  2009-11-12T14:53:22.077Z    213   \n",
       "2  1722795  2009-11-12T14:58:42.723Z     23   \n",
       "3  1722855  2009-11-12T15:06:37.717Z      1   \n",
       "4  1722863  2009-11-12T15:07:59.473Z      1   \n",
       "5  1722864  2009-11-12T15:08:16.403Z      5   \n",
       "6  1722865  2009-11-12T15:08:47.803Z      1   \n",
       "7  1722896   2009-11-12T15:12:12.54Z     43   \n",
       "8  1722901  2009-11-12T15:12:40.183Z      1   \n",
       "9  1722916   2009-11-12T15:14:29.37Z      2   \n",
       "\n",
       "                                                                                 TITLE   \n",
       "0                                                           File paths in Java (Linux)  \\\n",
       "1                          How to use RSpec's should_raise with any kind of exception?   \n",
       "2                                         iOS UINavigationBar vs UIToolbar vs UITabBar   \n",
       "3        In swing GUI how to show a JPanel as maximized when the user clicks a button?   \n",
       "4                                                  How to click a link from javascript   \n",
       "5                               Disable default ALT key action in JFrame under Windows   \n",
       "6                                              Twisted/tkinter program crashes on exit   \n",
       "7                                                                   VB to C# Functions   \n",
       "8  Is the first entry in sys.path supposed to represent the current working directory?   \n",
       "9                                              how to link c++ program with HTML page?   \n",
       "\n",
       "                                   TAGS  \n",
       "0                  |java|linux|file-io|  \n",
       "1  |ruby-on-rails|ruby|exception|rspec|  \n",
       "2  |ios|iphone|xcode|interface-builder|  \n",
       "3                   |java|swing|jpanel|  \n",
       "4                          |javascript|  \n",
       "5                  |java|windows|swing|  \n",
       "6              |python|twisted|tkinter|  \n",
       "7    |c#|vb.net|operators|vb.net-to-c#|  \n",
       "8          |python|pythonpath|sys.path|  \n",
       "9                          |c++|html|c|  "
      ]
     },
     "execution_count": 3,
     "metadata": {},
     "output_type": "execute_result"
    }
   ],
   "source": [
    "# First look at the dataframe\n",
    "df = pd.read_csv('data/DS_Interview_Dataset.csv', encoding='ISO-8859-1')\n",
    "df.head(10)"
   ]
  },
  {
   "attachments": {},
   "cell_type": "markdown",
   "metadata": {},
   "source": [
    "Preprocessing the tags to extract only the relevant task for our case. "
   ]
  },
  {
   "cell_type": "code",
   "execution_count": 4,
   "metadata": {},
   "outputs": [
    {
     "data": {
      "text/html": [
       "<div>\n",
       "<style scoped>\n",
       "    .dataframe tbody tr th:only-of-type {\n",
       "        vertical-align: middle;\n",
       "    }\n",
       "\n",
       "    .dataframe tbody tr th {\n",
       "        vertical-align: top;\n",
       "    }\n",
       "\n",
       "    .dataframe thead th {\n",
       "        text-align: right;\n",
       "    }\n",
       "</style>\n",
       "<table border=\"1\" class=\"dataframe\">\n",
       "  <thead>\n",
       "    <tr style=\"text-align: right;\">\n",
       "      <th></th>\n",
       "      <th>ID</th>\n",
       "      <th>CREATIONDATE</th>\n",
       "      <th>SCORE</th>\n",
       "      <th>TITLE</th>\n",
       "      <th>TAGS</th>\n",
       "      <th>TAGS_relevant</th>\n",
       "    </tr>\n",
       "  </thead>\n",
       "  <tbody>\n",
       "    <tr>\n",
       "      <th>0</th>\n",
       "      <td>1722730</td>\n",
       "      <td>2009-11-12T14:51:00.663Z</td>\n",
       "      <td>4</td>\n",
       "      <td>File paths in Java (Linux)</td>\n",
       "      <td>|java|linux|file-io|</td>\n",
       "      <td>[java]</td>\n",
       "    </tr>\n",
       "    <tr>\n",
       "      <th>1</th>\n",
       "      <td>1722749</td>\n",
       "      <td>2009-11-12T14:53:22.077Z</td>\n",
       "      <td>213</td>\n",
       "      <td>How to use RSpec's should_raise with any kind of exception?</td>\n",
       "      <td>|ruby-on-rails|ruby|exception|rspec|</td>\n",
       "      <td>[ruby-on-rails]</td>\n",
       "    </tr>\n",
       "    <tr>\n",
       "      <th>2</th>\n",
       "      <td>1722795</td>\n",
       "      <td>2009-11-12T14:58:42.723Z</td>\n",
       "      <td>23</td>\n",
       "      <td>iOS UINavigationBar vs UIToolbar vs UITabBar</td>\n",
       "      <td>|ios|iphone|xcode|interface-builder|</td>\n",
       "      <td>[ios]</td>\n",
       "    </tr>\n",
       "    <tr>\n",
       "      <th>3</th>\n",
       "      <td>1722855</td>\n",
       "      <td>2009-11-12T15:06:37.717Z</td>\n",
       "      <td>1</td>\n",
       "      <td>In swing GUI how to show a JPanel as maximized when the user clicks a button?</td>\n",
       "      <td>|java|swing|jpanel|</td>\n",
       "      <td>[java]</td>\n",
       "    </tr>\n",
       "    <tr>\n",
       "      <th>4</th>\n",
       "      <td>1722863</td>\n",
       "      <td>2009-11-12T15:07:59.473Z</td>\n",
       "      <td>1</td>\n",
       "      <td>How to click a link from javascript</td>\n",
       "      <td>|javascript|</td>\n",
       "      <td>[javascript]</td>\n",
       "    </tr>\n",
       "  </tbody>\n",
       "</table>\n",
       "</div>"
      ],
      "text/plain": [
       "        ID              CREATIONDATE  SCORE   \n",
       "0  1722730  2009-11-12T14:51:00.663Z      4  \\\n",
       "1  1722749  2009-11-12T14:53:22.077Z    213   \n",
       "2  1722795  2009-11-12T14:58:42.723Z     23   \n",
       "3  1722855  2009-11-12T15:06:37.717Z      1   \n",
       "4  1722863  2009-11-12T15:07:59.473Z      1   \n",
       "\n",
       "                                                                           TITLE   \n",
       "0                                                     File paths in Java (Linux)  \\\n",
       "1                    How to use RSpec's should_raise with any kind of exception?   \n",
       "2                                   iOS UINavigationBar vs UIToolbar vs UITabBar   \n",
       "3  In swing GUI how to show a JPanel as maximized when the user clicks a button?   \n",
       "4                                            How to click a link from javascript   \n",
       "\n",
       "                                   TAGS    TAGS_relevant  \n",
       "0                  |java|linux|file-io|           [java]  \n",
       "1  |ruby-on-rails|ruby|exception|rspec|  [ruby-on-rails]  \n",
       "2  |ios|iphone|xcode|interface-builder|            [ios]  \n",
       "3                   |java|swing|jpanel|           [java]  \n",
       "4                          |javascript|     [javascript]  "
      ]
     },
     "execution_count": 4,
     "metadata": {},
     "output_type": "execute_result"
    }
   ],
   "source": [
    "labels = ['python', 'javascript', 'ios', 'c#', 'java', 'ruby-on-rails', 'mysql', 'html', 'matplotlib']\n",
    "\n",
    "def extract_tags(tags):\n",
    "    \"\"\"\n",
    "    Function to extract relevant tags from tags column\n",
    "    Parameters: \n",
    "        tags(series): tags column \n",
    "    Returns:\n",
    "        relevant_tags(series): tags_relevant column \n",
    "    \"\"\"\n",
    "    tags = tags.replace('|', ' ').split()\n",
    "    relevant_tags = [tag for tag in tags if tag in labels]\n",
    "    return relevant_tags\n",
    "\n",
    "\n",
    "df['TAGS_relevant'] = df['TAGS'].apply(extract_tags)\n",
    "df.head()"
   ]
  },
  {
   "attachments": {},
   "cell_type": "markdown",
   "metadata": {},
   "source": [
    "Here we can see that we have 129 examples that contains more than 1 relevant tag, so we should create a multi-label classification task."
   ]
  },
  {
   "cell_type": "code",
   "execution_count": 5,
   "metadata": {},
   "outputs": [
    {
     "data": {
      "text/html": [
       "<div>\n",
       "<style scoped>\n",
       "    .dataframe tbody tr th:only-of-type {\n",
       "        vertical-align: middle;\n",
       "    }\n",
       "\n",
       "    .dataframe tbody tr th {\n",
       "        vertical-align: top;\n",
       "    }\n",
       "\n",
       "    .dataframe thead th {\n",
       "        text-align: right;\n",
       "    }\n",
       "</style>\n",
       "<table border=\"1\" class=\"dataframe\">\n",
       "  <thead>\n",
       "    <tr style=\"text-align: right;\">\n",
       "      <th></th>\n",
       "      <th>ID</th>\n",
       "      <th>CREATIONDATE</th>\n",
       "      <th>SCORE</th>\n",
       "      <th>TITLE</th>\n",
       "      <th>TAGS</th>\n",
       "      <th>TAGS_relevant</th>\n",
       "    </tr>\n",
       "  </thead>\n",
       "  <tbody>\n",
       "    <tr>\n",
       "      <th>71</th>\n",
       "      <td>1723975</td>\n",
       "      <td>2009-11-12T17:29:22.213Z</td>\n",
       "      <td>1</td>\n",
       "      <td>difference in mouse events on img/div</td>\n",
       "      <td>|javascript|html|</td>\n",
       "      <td>[javascript, html]</td>\n",
       "    </tr>\n",
       "    <tr>\n",
       "      <th>92</th>\n",
       "      <td>1724460</td>\n",
       "      <td>2009-11-12T18:45:09.07Z</td>\n",
       "      <td>2</td>\n",
       "      <td>Storing the path of a file a user selects from the file input as a session variable to repopulate the field later</td>\n",
       "      <td>|php|javascript|html|css|dom|</td>\n",
       "      <td>[javascript, html]</td>\n",
       "    </tr>\n",
       "    <tr>\n",
       "      <th>108</th>\n",
       "      <td>1724739</td>\n",
       "      <td>2009-11-12T19:27:02.96Z</td>\n",
       "      <td>19</td>\n",
       "      <td>Back Button Handle A Dynamic Form</td>\n",
       "      <td>|javascript|html|forms|back-button|</td>\n",
       "      <td>[javascript, html]</td>\n",
       "    </tr>\n",
       "    <tr>\n",
       "      <th>109</th>\n",
       "      <td>1724743</td>\n",
       "      <td>2009-11-12T19:27:20.123Z</td>\n",
       "      <td>3</td>\n",
       "      <td>Using jQuery, setting Draggable on an element prevents blur from firing when you click the draggable element</td>\n",
       "      <td>|javascript|html|jquery|jquery-ui|jquery-events|</td>\n",
       "      <td>[javascript, html]</td>\n",
       "    </tr>\n",
       "    <tr>\n",
       "      <th>126</th>\n",
       "      <td>1725079</td>\n",
       "      <td>2009-11-12T20:17:49.867Z</td>\n",
       "      <td>2</td>\n",
       "      <td>Entity Framework Error message MYSQL, works on the local machine not when published</td>\n",
       "      <td>|c#|asp.net|mysql|</td>\n",
       "      <td>[c#, mysql]</td>\n",
       "    </tr>\n",
       "    <tr>\n",
       "      <th>...</th>\n",
       "      <td>...</td>\n",
       "      <td>...</td>\n",
       "      <td>...</td>\n",
       "      <td>...</td>\n",
       "      <td>...</td>\n",
       "      <td>...</td>\n",
       "    </tr>\n",
       "    <tr>\n",
       "      <th>2811</th>\n",
       "      <td>1763113</td>\n",
       "      <td>2009-11-19T12:57:22.183Z</td>\n",
       "      <td>2</td>\n",
       "      <td>Why does select with onfocus not work in IE?</td>\n",
       "      <td>|javascript|html|css|internet-explorer|</td>\n",
       "      <td>[javascript, html]</td>\n",
       "    </tr>\n",
       "    <tr>\n",
       "      <th>2820</th>\n",
       "      <td>1763211</td>\n",
       "      <td>2009-11-19T13:13:33.713Z</td>\n",
       "      <td>16</td>\n",
       "      <td>Apply CSS for an HTML generic control like &lt;UL&gt; and &lt;LI&gt; in ASP.NET</td>\n",
       "      <td>|c#|.net|asp.net|html|css|</td>\n",
       "      <td>[c#, html]</td>\n",
       "    </tr>\n",
       "    <tr>\n",
       "      <th>2837</th>\n",
       "      <td>1763479</td>\n",
       "      <td>2009-11-19T14:02:52.117Z</td>\n",
       "      <td>115</td>\n",
       "      <td>How to get the HTML for a DOM element in javascript</td>\n",
       "      <td>|javascript|html|dom|</td>\n",
       "      <td>[javascript, html]</td>\n",
       "    </tr>\n",
       "    <tr>\n",
       "      <th>2890</th>\n",
       "      <td>1764370</td>\n",
       "      <td>2009-11-19T16:01:17.74Z</td>\n",
       "      <td>7</td>\n",
       "      <td>Use of Mocks in Tests</td>\n",
       "      <td>|c#|java|unit-testing|testing|mocking|</td>\n",
       "      <td>[c#, java]</td>\n",
       "    </tr>\n",
       "    <tr>\n",
       "      <th>2909</th>\n",
       "      <td>1764674</td>\n",
       "      <td>2009-11-19T16:37:11.473Z</td>\n",
       "      <td>4</td>\n",
       "      <td>How to execute Javascript from Python on Windows?</td>\n",
       "      <td>|javascript|python|</td>\n",
       "      <td>[javascript, python]</td>\n",
       "    </tr>\n",
       "  </tbody>\n",
       "</table>\n",
       "<p>129 rows × 6 columns</p>\n",
       "</div>"
      ],
      "text/plain": [
       "           ID              CREATIONDATE  SCORE   \n",
       "71    1723975  2009-11-12T17:29:22.213Z      1  \\\n",
       "92    1724460   2009-11-12T18:45:09.07Z      2   \n",
       "108   1724739   2009-11-12T19:27:02.96Z     19   \n",
       "109   1724743  2009-11-12T19:27:20.123Z      3   \n",
       "126   1725079  2009-11-12T20:17:49.867Z      2   \n",
       "...       ...                       ...    ...   \n",
       "2811  1763113  2009-11-19T12:57:22.183Z      2   \n",
       "2820  1763211  2009-11-19T13:13:33.713Z     16   \n",
       "2837  1763479  2009-11-19T14:02:52.117Z    115   \n",
       "2890  1764370   2009-11-19T16:01:17.74Z      7   \n",
       "2909  1764674  2009-11-19T16:37:11.473Z      4   \n",
       "\n",
       "                                                                                                                  TITLE   \n",
       "71                                                                                difference in mouse events on img/div  \\\n",
       "92    Storing the path of a file a user selects from the file input as a session variable to repopulate the field later   \n",
       "108                                                                                   Back Button Handle A Dynamic Form   \n",
       "109        Using jQuery, setting Draggable on an element prevents blur from firing when you click the draggable element   \n",
       "126                                 Entity Framework Error message MYSQL, works on the local machine not when published   \n",
       "...                                                                                                                 ...   \n",
       "2811                                                                       Why does select with onfocus not work in IE?   \n",
       "2820                                                Apply CSS for an HTML generic control like <UL> and <LI> in ASP.NET   \n",
       "2837                                                                How to get the HTML for a DOM element in javascript   \n",
       "2890                                                                                              Use of Mocks in Tests   \n",
       "2909                                                                  How to execute Javascript from Python on Windows?   \n",
       "\n",
       "                                                  TAGS         TAGS_relevant  \n",
       "71                                   |javascript|html|    [javascript, html]  \n",
       "92                       |php|javascript|html|css|dom|    [javascript, html]  \n",
       "108                |javascript|html|forms|back-button|    [javascript, html]  \n",
       "109   |javascript|html|jquery|jquery-ui|jquery-events|    [javascript, html]  \n",
       "126                                 |c#|asp.net|mysql|           [c#, mysql]  \n",
       "...                                                ...                   ...  \n",
       "2811           |javascript|html|css|internet-explorer|    [javascript, html]  \n",
       "2820                        |c#|.net|asp.net|html|css|            [c#, html]  \n",
       "2837                             |javascript|html|dom|    [javascript, html]  \n",
       "2890            |c#|java|unit-testing|testing|mocking|            [c#, java]  \n",
       "2909                               |javascript|python|  [javascript, python]  \n",
       "\n",
       "[129 rows x 6 columns]"
      ]
     },
     "execution_count": 5,
     "metadata": {},
     "output_type": "execute_result"
    }
   ],
   "source": [
    "tags_count_per_row = df['TAGS_relevant'].apply(len)\n",
    "\n",
    "more_than_one_tag = df[tags_count_per_row > 1]\n",
    "more_than_one_tag"
   ]
  },
  {
   "cell_type": "markdown",
   "metadata": {},
   "source": [
    "We also have some titles without relevant labels"
   ]
  },
  {
   "cell_type": "code",
   "execution_count": 6,
   "metadata": {},
   "outputs": [
    {
     "data": {
      "text/html": [
       "<div>\n",
       "<style scoped>\n",
       "    .dataframe tbody tr th:only-of-type {\n",
       "        vertical-align: middle;\n",
       "    }\n",
       "\n",
       "    .dataframe tbody tr th {\n",
       "        vertical-align: top;\n",
       "    }\n",
       "\n",
       "    .dataframe thead th {\n",
       "        text-align: right;\n",
       "    }\n",
       "</style>\n",
       "<table border=\"1\" class=\"dataframe\">\n",
       "  <thead>\n",
       "    <tr style=\"text-align: right;\">\n",
       "      <th></th>\n",
       "      <th>ID</th>\n",
       "      <th>CREATIONDATE</th>\n",
       "      <th>SCORE</th>\n",
       "      <th>TITLE</th>\n",
       "      <th>TAGS</th>\n",
       "      <th>TAGS_relevant</th>\n",
       "    </tr>\n",
       "  </thead>\n",
       "  <tbody>\n",
       "    <tr>\n",
       "      <th>38</th>\n",
       "      <td>1723364</td>\n",
       "      <td>2009-11-12T16:09:51.893Z</td>\n",
       "      <td>1</td>\n",
       "      <td>Pattern to catch exception from sections of code (while not making eyes bleed)</td>\n",
       "      <td>|.net|exception|c#-3.0|code-readability|</td>\n",
       "      <td>[]</td>\n",
       "    </tr>\n",
       "    <tr>\n",
       "      <th>65</th>\n",
       "      <td>1723875</td>\n",
       "      <td>2009-11-12T17:16:28.34Z</td>\n",
       "      <td>39</td>\n",
       "      <td>Can method parameters be dynamic in C#</td>\n",
       "      <td>|dynamic|parameters|methods|c#-4.0|</td>\n",
       "      <td>[]</td>\n",
       "    </tr>\n",
       "    <tr>\n",
       "      <th>119</th>\n",
       "      <td>1724927</td>\n",
       "      <td>2009-11-12T19:54:04.563Z</td>\n",
       "      <td>5</td>\n",
       "      <td>ASP.Net MVC 2.0 Html.HiddenFor HtmlHelper extension doesn't return the Value</td>\n",
       "      <td>|asp.net-mvc|asp.net-mvc-2|html-helper|</td>\n",
       "      <td>[]</td>\n",
       "    </tr>\n",
       "    <tr>\n",
       "      <th>165</th>\n",
       "      <td>1725831</td>\n",
       "      <td>2009-11-12T22:22:50.99Z</td>\n",
       "      <td>3</td>\n",
       "      <td>When should I use HtmlHelper Extension Methods?</td>\n",
       "      <td>|asp.net-mvc|extension-methods|html-helper|</td>\n",
       "      <td>[]</td>\n",
       "    </tr>\n",
       "    <tr>\n",
       "      <th>218</th>\n",
       "      <td>1726603</td>\n",
       "      <td>2009-11-13T01:36:09.587Z</td>\n",
       "      <td>2</td>\n",
       "      <td>Using MIDP Canvas keyPressed / keyCode on BlackBerry to get Canvas.FIRE for trackball click</td>\n",
       "      <td>|blackberry|java-me|midp|lcdui|</td>\n",
       "      <td>[]</td>\n",
       "    </tr>\n",
       "  </tbody>\n",
       "</table>\n",
       "</div>"
      ],
      "text/plain": [
       "          ID              CREATIONDATE  SCORE   \n",
       "38   1723364  2009-11-12T16:09:51.893Z      1  \\\n",
       "65   1723875   2009-11-12T17:16:28.34Z     39   \n",
       "119  1724927  2009-11-12T19:54:04.563Z      5   \n",
       "165  1725831   2009-11-12T22:22:50.99Z      3   \n",
       "218  1726603  2009-11-13T01:36:09.587Z      2   \n",
       "\n",
       "                                                                                           TITLE   \n",
       "38                Pattern to catch exception from sections of code (while not making eyes bleed)  \\\n",
       "65                                                        Can method parameters be dynamic in C#   \n",
       "119                 ASP.Net MVC 2.0 Html.HiddenFor HtmlHelper extension doesn't return the Value   \n",
       "165                                              When should I use HtmlHelper Extension Methods?   \n",
       "218  Using MIDP Canvas keyPressed / keyCode on BlackBerry to get Canvas.FIRE for trackball click   \n",
       "\n",
       "                                            TAGS TAGS_relevant  \n",
       "38      |.net|exception|c#-3.0|code-readability|            []  \n",
       "65           |dynamic|parameters|methods|c#-4.0|            []  \n",
       "119      |asp.net-mvc|asp.net-mvc-2|html-helper|            []  \n",
       "165  |asp.net-mvc|extension-methods|html-helper|            []  \n",
       "218              |blackberry|java-me|midp|lcdui|            []  "
      ]
     },
     "execution_count": 6,
     "metadata": {},
     "output_type": "execute_result"
    }
   ],
   "source": [
    "df[tags_count_per_row < 1].head()"
   ]
  },
  {
   "attachments": {},
   "cell_type": "markdown",
   "metadata": {},
   "source": [
    "We drop those with less than 1 tag, since we can't train our model\n"
   ]
  },
  {
   "cell_type": "code",
   "execution_count": 7,
   "metadata": {},
   "outputs": [],
   "source": [
    "df = df[tags_count_per_row >= 1]"
   ]
  },
  {
   "attachments": {},
   "cell_type": "markdown",
   "metadata": {},
   "source": [
    "From a bird's eye view, the titles appear to be clean for the most part. Not much cleaning work is needed"
   ]
  },
  {
   "cell_type": "code",
   "execution_count": 8,
   "metadata": {},
   "outputs": [
    {
     "data": {
      "text/plain": [
       "0                                                                                file paths in java (linux)\n",
       "1                                               how to use rspec's should_raise with any kind of exception?\n",
       "2                                                              ios uinavigationbar vs uitoolbar vs uitabbar\n",
       "3                             in swing gui how to show a jpanel as maximized when the user clicks a button?\n",
       "4                                                                       how to click a link from javascript\n",
       "5                                                    disable default alt key action in jframe under windows\n",
       "6                                                                   twisted/tkinter program crashes on exit\n",
       "7                                                                                        vb to c# functions\n",
       "8                       is the first entry in sys.path supposed to represent the current working directory?\n",
       "9                                                                   how to link c++ program with html page?\n",
       "10                                                           jdialog not displaying when in fullscreen mode\n",
       "11                                                                                    locking main() thread\n",
       "12                                                                                  gwt web page complexity\n",
       "13                                                                            when to use try/catch blocks?\n",
       "14                                                                   using openid in standalone application\n",
       "15                                   creating a wrapper around a 3rd party assembly - swap out and decouple\n",
       "16                                                                      jquery select all disabled texboxes\n",
       "17                                                          how do i create an input stream from a zipentry\n",
       "18                                            a good collection to use when binding to a datagridview in c#\n",
       "19                                         can i have an optional parameter for an asp.net soap web service\n",
       "20                                                          find (and keep) duplicates of sublist in python\n",
       "21                                            is it possible to list available timezones by locale in java?\n",
       "22                                                 should we validate method arguments in javascript api's?\n",
       "23                                                             initializing arraylist with constant literal\n",
       "24                               is it possible to prompt or force a user to upgrade their jvm with a jnlp?\n",
       "25             what is the fastest or most elegant way to compute a set difference using javascript arrays?\n",
       "26                                       what is the rule? when do i use $(this) and when is \"this\" enough?\n",
       "27                                       visual studio 2010 system.management.automation assembly reference\n",
       "28                                                                               how to avoid mysql caching\n",
       "29                                                           determining child interface closest to a class\n",
       "30                                                                         mysql - insert into three tables\n",
       "31                                            how to tell if a sqlconnection has an attached sqldatareader?\n",
       "32    how to split a string into a list<string> from a multi-line textbox that adds '\\n\\r' as line endings?\n",
       "33                                                              typeconverter for generic type used in xaml\n",
       "34                                                                                    building agents in c#\n",
       "35                                                          how should i display this background using css?\n",
       "36                                                           can i map resources to a different controller?\n",
       "37                                                        calling a javascript function named in a variable\n",
       "39                                                              what's the point of \"not null default '' \"?\n",
       "40                                                determine the remaining ttl of a multicast packet in java\n",
       "41                                                               is there any way without file.readalltext?\n",
       "42                                                                  calling js function in external js file\n",
       "43                                                                       response.redirect http status code\n",
       "44                                                      python function slowing down for no apparent reason\n",
       "45                                                  database change management using hand generated scripts\n",
       "46                                                                           mysql - prevent double booking\n",
       "47                             what happens when a thread holding a lock with reentrantreadwritelock fails?\n",
       "48                                                           export structure and data (like in phpmyadmin)\n",
       "49                       rails: how can i lock data into a record which is sourced from many system tables?\n",
       "50                                                     setting the page-title in .net using c# from a class\n",
       "Name: TITLE, dtype: object"
      ]
     },
     "execution_count": 8,
     "metadata": {},
     "output_type": "execute_result"
    }
   ],
   "source": [
    "df['TITLE'] = df['TITLE'].str.lower()\n",
    "df['TITLE'].head(50)"
   ]
  },
  {
   "cell_type": "code",
   "execution_count": 9,
   "metadata": {},
   "outputs": [],
   "source": [
    "df['CREATIONDATE'] = df['CREATIONDATE'].apply(parse)\n"
   ]
  },
  {
   "cell_type": "code",
   "execution_count": 10,
   "metadata": {},
   "outputs": [
    {
     "name": "stdout",
     "output_type": "stream",
     "text": [
      "TAGS_relevant                 c#   html   ios   java  javascript  matplotlib   \n",
      "CREATIONDATE                                                                   \n",
      "2009-11-30 00:00:00+00:00  829.0  179.0  11.0  527.0       355.0         4.0  \\\n",
      "2014-09-30 00:00:00+00:00   57.0   22.0  37.0   88.0        60.0         0.0   \n",
      "2022-08-31 00:00:00+00:00   17.0   10.0   4.0   13.0        47.0         2.0   \n",
      "\n",
      "TAGS_relevant              mysql  python  ruby-on-rails  \n",
      "CREATIONDATE                                             \n",
      "2009-11-30 00:00:00+00:00  184.0   316.0          150.0  \n",
      "2014-09-30 00:00:00+00:00   13.0    37.0           16.0  \n",
      "2022-08-31 00:00:00+00:00    7.0    56.0            1.0  \n"
     ]
    }
   ],
   "source": [
    "# Start by exploding the 'TAGS_relevant' column into separate rows\n",
    "exploded_df = df.explode('TAGS_relevant')\n",
    "\n",
    "# Set the date as the index for resampling\n",
    "exploded_df.set_index('CREATIONDATE', inplace=True)\n",
    "\n",
    "# Resample by month and count the occurrences of each tag\n",
    "tag_counts = exploded_df.resample('M')['TAGS_relevant'].value_counts().unstack().fillna(0)\n",
    "\n",
    "# Display the resulting DataFrame\n",
    "print(tag_counts)\n"
   ]
  },
  {
   "cell_type": "code",
   "execution_count": 11,
   "metadata": {},
   "outputs": [
    {
     "data": {
      "image/png": "[encoded data removed]",
      "text/plain": [
       "<Figure size 1500x1000 with 1 Axes>"
      ]
     },
     "metadata": {},
     "output_type": "display_data"
    }
   ],
   "source": [
    "tag_counts.plot(kind='line', figsize=(15, 10))\n",
    "plt.title('Evolution of Tags Over Time')\n",
    "plt.xlabel('Date')\n",
    "plt.ylabel('Count')\n",
    "plt.show()"
   ]
  },
  {
   "attachments": {},
   "cell_type": "markdown",
   "metadata": {},
   "source": [
    "Create a mapping between labels and idx\n"
   ]
  },
  {
   "cell_type": "code",
   "execution_count": 12,
   "metadata": {},
   "outputs": [],
   "source": [
    "id2label = {idx:label for idx, label in enumerate(labels)}\n",
    "label2id = {label:idx for idx, label in enumerate(labels)}"
   ]
  },
  {
   "cell_type": "code",
   "execution_count": 13,
   "metadata": {},
   "outputs": [
    {
     "name": "stderr",
     "output_type": "stream",
     "text": [
      "Some weights of BertForSequenceClassification were not initialized from the model checkpoint at microsoft/xtremedistil-l6-h384-uncased and are newly initialized: ['classifier.bias', 'classifier.weight']\n",
      "You should probably TRAIN this model on a down-stream task to be able to use it for predictions and inference.\n"
     ]
    }
   ],
   "source": [
    "# model_name = \"microsoft/deberta-v3-base\"\n",
    "model_name = \"microsoft/xtremedistil-l6-h384-uncased\"\n",
    "\n",
    "tokenizer = AutoTokenizer.from_pretrained(\n",
    "    model_name)\n",
    "model = AutoModelForSequenceClassification.from_pretrained(\n",
    "    model_name,\n",
    "    problem_type=\"multi_label_classification\",\n",
    "    num_labels=len(labels),\n",
    "    id2label=id2label,\n",
    "    label2id=label2id)\n"
   ]
  },
  {
   "cell_type": "code",
   "execution_count": 14,
   "metadata": {},
   "outputs": [],
   "source": [
    "def preprocess_data(examples):\n",
    "  # take a batch of texts\n",
    "  text = examples[\"TITLE\"]\n",
    "  # encode them\n",
    "  encoding = tokenizer(text, padding=True, truncation=True, max_length=128)\n",
    "  # add labels\n",
    "  labels_batch = examples[\"TAGS_relevant\"]\n",
    "  # create numpy array of shape (batch_size, num_labels) using list comprehension and vectorization\n",
    "  labels_matrix = np.array([[float(label in lb) for label in labels] for lb in labels_batch])\n",
    "\n",
    "  encoding[\"labels\"] = labels_matrix.tolist()\n",
    "\n",
    "  return encoding"
   ]
  },
  {
   "cell_type": "code",
   "execution_count": 15,
   "metadata": {},
   "outputs": [
    {
     "data": {
      "text/plain": [
       "DatasetDict({\n",
       "    train: Dataset({\n",
       "        features: ['ID', 'CREATIONDATE', 'SCORE', 'TITLE', 'TAGS', 'TAGS_relevant', '__index_level_0__'],\n",
       "        num_rows: 2619\n",
       "    })\n",
       "    valid: Dataset({\n",
       "        features: ['ID', 'CREATIONDATE', 'SCORE', 'TITLE', 'TAGS', 'TAGS_relevant', '__index_level_0__'],\n",
       "        num_rows: 145\n",
       "    })\n",
       "    test: Dataset({\n",
       "        features: ['ID', 'CREATIONDATE', 'SCORE', 'TITLE', 'TAGS', 'TAGS_relevant', '__index_level_0__'],\n",
       "        num_rows: 146\n",
       "    })\n",
       "})"
      ]
     },
     "execution_count": 15,
     "metadata": {},
     "output_type": "execute_result"
    }
   ],
   "source": [
    "# Load our pandas dataframe into a HuggingFace dataset\n",
    "my_dataset = Dataset.from_pandas(df)\n",
    "\n",
    "# Split the dataset into training and testing sets, with a 10% split for the test set\n",
    "my_dataset_splits = my_dataset.train_test_split(test_size=0.10, seed=11, shuffle=False)\n",
    "\n",
    "# Further split the test set into validation and test sets\n",
    "evaluation_and_test = my_dataset_splits['test'].train_test_split(test_size=0.5)\n",
    "\n",
    "# Organize the splits into a dictionary for convenient access\n",
    "dataset = DatasetDict({\n",
    "    \"train\": my_dataset_splits['train'],\n",
    "    \"valid\": evaluation_and_test['train'],\n",
    "    \"test\": evaluation_and_test['test']\n",
    "})\n",
    "dataset\n"
   ]
  },
  {
   "cell_type": "code",
   "execution_count": 16,
   "metadata": {},
   "outputs": [
    {
     "data": {
      "application/vnd.jupyter.widget-view+json": {
       "model_id": "d6c62bab6a1b471bb7b981fa62219c28",
       "version_major": 2,
       "version_minor": 0
      },
      "text/plain": [
       "Map:   0%|          | 0/2619 [00:00<?, ? examples/s]"
      ]
     },
     "metadata": {},
     "output_type": "display_data"
    },
    {
     "data": {
      "application/vnd.jupyter.widget-view+json": {
       "model_id": "1203955ad8284b488c8aff053bc63fd5",
       "version_major": 2,
       "version_minor": 0
      },
      "text/plain": [
       "Map:   0%|          | 0/145 [00:00<?, ? examples/s]"
      ]
     },
     "metadata": {},
     "output_type": "display_data"
    },
    {
     "data": {
      "application/vnd.jupyter.widget-view+json": {
       "model_id": "2a9e812d83c34af19bec2fefd71f9190",
       "version_major": 2,
       "version_minor": 0
      },
      "text/plain": [
       "Map:   0%|          | 0/146 [00:00<?, ? examples/s]"
      ]
     },
     "metadata": {},
     "output_type": "display_data"
    }
   ],
   "source": [
    "encoded_dataset = dataset.map(preprocess_data, batched=True, remove_columns=dataset['train'].column_names)"
   ]
  },
  {
   "cell_type": "code",
   "execution_count": 17,
   "metadata": {},
   "outputs": [],
   "source": [
    "batch_size = 16\n",
    "metric_name = \"loss\""
   ]
  },
  {
   "cell_type": "code",
   "execution_count": 18,
   "metadata": {},
   "outputs": [],
   "source": [
    "from transformers import TrainingArguments, Trainer\n",
    "\n",
    "args = TrainingArguments(f\"models/{model_name}_fine_tuned\",\n",
    "                         evaluation_strategy=\"epoch\",\n",
    "                         save_strategy=\"epoch\",\n",
    "                         save_total_limit=1,\n",
    "                         learning_rate=2e-5,\n",
    "                         per_device_train_batch_size=batch_size,\n",
    "                         per_device_eval_batch_size=batch_size,\n",
    "                         num_train_epochs=50,\n",
    "                         load_best_model_at_end=True,\n",
    "                         metric_for_best_model=metric_name,\n",
    "                         fp16=True,\n",
    "                         weight_decay=0.02,\n",
    "                         optim='adafactor',\n",
    "                         report_to=\"wandb\",\n",
    "                         run_name=model_name\n",
    "                         )\n"
   ]
  },
  {
   "cell_type": "code",
   "execution_count": 19,
   "metadata": {},
   "outputs": [],
   "source": [
    "def compute_model_metrics(preds, actual_labels, cut_off=0.5):\n",
    "    # Applying the sigmoid function to predictions, which are of the shape (batch_size, num_labels)\n",
    "    sigmoid_func = torch.nn.Sigmoid()\n",
    "    probabilities = sigmoid_func(torch.Tensor(preds))\n",
    "\n",
    "    # Using the threshold value to convert probabilities into binary predictions\n",
    "    binary_preds = np.zeros(probabilities.shape)\n",
    "    binary_preds[np.where(probabilities >= cut_off)] = 1\n",
    "\n",
    "    # Computing various metrics\n",
    "    true_labels = actual_labels\n",
    "    f1_micro_avg = f1_score(y_true=true_labels,\n",
    "                            y_pred=binary_preds,\n",
    "                            average='micro')\n",
    "    auc_roc = roc_auc_score(y_true=true_labels,\n",
    "                            y_score=binary_preds,\n",
    "                            average='micro')\n",
    "    model_accuracy = accuracy_score(y_true=true_labels, y_pred=binary_preds)\n",
    "\n",
    "    # Packing the metrics into a dictionary for easy access\n",
    "    calculated_metrics = {\n",
    "        'f1': f1_micro_avg,\n",
    "        'roc_auc': auc_roc,\n",
    "        'accuracy': model_accuracy\n",
    "    }\n",
    "\n",
    "    return calculated_metrics\n",
    "\n",
    "\n",
    "def compute_metrics(evaluation_prediction: EvalPrediction):\n",
    "    # If predictions are a tuple, take the first element\n",
    "    predicted_values = evaluation_prediction.predictions[0] if isinstance(\n",
    "        evaluation_prediction.predictions,\n",
    "        tuple) else evaluation_prediction.predictions\n",
    "\n",
    "    # Using the compute_model_metrics function to calculate the metrics\n",
    "    calculated_results = compute_model_metrics(\n",
    "        preds=predicted_values, actual_labels=evaluation_prediction.label_ids)\n",
    "\n",
    "    return calculated_results\n"
   ]
  },
  {
   "cell_type": "code",
   "execution_count": 20,
   "metadata": {},
   "outputs": [],
   "source": [
    "trainer = Trainer(model,\n",
    "                  args,\n",
    "                  train_dataset=encoded_dataset[\"train\"],\n",
    "                  eval_dataset=encoded_dataset[\"test\"],\n",
    "                  tokenizer=tokenizer,\n",
    "                  compute_metrics=compute_metrics,\n",
    "                  callbacks=[\n",
    "                      EarlyStoppingCallback(early_stopping_patience=10),\n",
    "                      TensorBoardCallback(),\n",
    "                  ])"
   ]
  },
  {
   "cell_type": "code",
   "execution_count": 21,
   "metadata": {},
   "outputs": [
    {
     "name": "stderr",
     "output_type": "stream",
     "text": [
      "Failed to detect the name of this notebook, you can set it manually with the WANDB_NOTEBOOK_NAME environment variable to enable code saving.\n",
      "\u001b[34m\u001b[1mwandb\u001b[0m: Currently logged in as: \u001b[33mgaceladri\u001b[0m. Use \u001b[1m`wandb login --relogin`\u001b[0m to force relogin\n"
     ]
    },
    {
     "data": {
      "text/html": [
       "Tracking run with wandb version 0.15.2"
      ],
      "text/plain": [
       "<IPython.core.display.HTML object>"
      ]
     },
     "metadata": {},
     "output_type": "display_data"
    },
    {
     "data": {
      "text/html": [
       "Run data is saved locally in <code>/home/ad/Desktop/mle-stackoverflow/wandb/run-20230512_075410-vb1cqwm2</code>"
      ],
      "text/plain": [
       "<IPython.core.display.HTML object>"
      ]
     },
     "metadata": {},
     "output_type": "display_data"
    },
    {
     "data": {
      "text/html": [
       "Syncing run <strong><a href='https://wandb.ai/gaceladri/StackOverflow/runs/vb1cqwm2' target=\"_blank\">microsoft/xtremedistil-l6-h384-uncased</a></strong> to <a href='https://wandb.ai/gaceladri/StackOverflow' target=\"_blank\">Weights & Biases</a> (<a href='https://wandb.me/run' target=\"_blank\">docs</a>)<br/>"
      ],
      "text/plain": [
       "<IPython.core.display.HTML object>"
      ]
     },
     "metadata": {},
     "output_type": "display_data"
    },
    {
     "data": {
      "text/html": [
       " View project at <a href='https://wandb.ai/gaceladri/StackOverflow' target=\"_blank\">https://wandb.ai/gaceladri/StackOverflow</a>"
      ],
      "text/plain": [
       "<IPython.core.display.HTML object>"
      ]
     },
     "metadata": {},
     "output_type": "display_data"
    },
    {
     "data": {
      "text/html": [
       " View run at <a href='https://wandb.ai/gaceladri/StackOverflow/runs/vb1cqwm2' target=\"_blank\">https://wandb.ai/gaceladri/StackOverflow/runs/vb1cqwm2</a>"
      ],
      "text/plain": [
       "<IPython.core.display.HTML object>"
      ]
     },
     "metadata": {},
     "output_type": "display_data"
    },
    {
     "data": {
      "application/vnd.jupyter.widget-view+json": {
       "model_id": "43edb710cecf4e8fadcb83be6ba45bd5",
       "version_major": 2,
       "version_minor": 0
      },
      "text/plain": [
       "  0%|          | 0/8200 [00:00<?, ?it/s]"
      ]
     },
     "metadata": {},
     "output_type": "display_data"
    },
    {
     "name": "stderr",
     "output_type": "stream",
     "text": [
      "You're using a BertTokenizerFast tokenizer. Please note that with a fast tokenizer, using the `__call__` method is faster than using a method to encode the text followed by a call to the `pad` method to get a padded encoding.\n"
     ]
    },
    {
     "data": {
      "application/vnd.jupyter.widget-view+json": {
       "model_id": "04fbb897c979436d9ac98522e851535a",
       "version_major": 2,
       "version_minor": 0
      },
      "text/plain": [
       "  0%|          | 0/10 [00:00<?, ?it/s]"
      ]
     },
     "metadata": {},
     "output_type": "display_data"
    },
    {
     "name": "stdout",
     "output_type": "stream",
     "text": [
      "{'eval_loss': 0.3919059634208679, 'eval_f1': 0.0, 'eval_roc_auc': 0.5, 'eval_accuracy': 0.0, 'eval_runtime': 0.0867, 'eval_samples_per_second': 1683.057, 'eval_steps_per_second': 115.278, 'epoch': 1.0}\n"
     ]
    },
    {
     "data": {
      "application/vnd.jupyter.widget-view+json": {
       "model_id": "6295c17beb4b48a0ba040fb174678498",
       "version_major": 2,
       "version_minor": 0
      },
      "text/plain": [
       "  0%|          | 0/10 [00:00<?, ?it/s]"
      ]
     },
     "metadata": {},
     "output_type": "display_data"
    },
    {
     "name": "stdout",
     "output_type": "stream",
     "text": [
      "{'eval_loss': 0.3207377791404724, 'eval_f1': 0.0, 'eval_roc_auc': 0.5, 'eval_accuracy': 0.0, 'eval_runtime': 0.0818, 'eval_samples_per_second': 1785.081, 'eval_steps_per_second': 122.266, 'epoch': 2.0}\n"
     ]
    },
    {
     "data": {
      "application/vnd.jupyter.widget-view+json": {
       "model_id": "f2620d23c3c64394b801989f23789625",
       "version_major": 2,
       "version_minor": 0
      },
      "text/plain": [
       "  0%|          | 0/10 [00:00<?, ?it/s]"
      ]
     },
     "metadata": {},
     "output_type": "display_data"
    },
    {
     "name": "stdout",
     "output_type": "stream",
     "text": [
      "{'eval_loss': 0.2993725836277008, 'eval_f1': 0.18072289156626503, 'eval_roc_auc': 0.5496688741721855, 'eval_accuracy': 0.10273972602739725, 'eval_runtime': 0.1531, 'eval_samples_per_second': 953.38, 'eval_steps_per_second': 65.3, 'epoch': 3.0}\n",
      "{'loss': 0.3927, 'learning_rate': 1.878048780487805e-05, 'epoch': 3.05}\n"
     ]
    },
    {
     "data": {
      "application/vnd.jupyter.widget-view+json": {
       "model_id": "196c8a7d95304309b97243439915ce2c",
       "version_major": 2,
       "version_minor": 0
      },
      "text/plain": [
       "  0%|          | 0/10 [00:00<?, ?it/s]"
      ]
     },
     "metadata": {},
     "output_type": "display_data"
    },
    {
     "name": "stdout",
     "output_type": "stream",
     "text": [
      "{'eval_loss': 0.28689366579055786, 'eval_f1': 0.3383084577114428, 'eval_roc_auc': 0.6057040196340817, 'eval_accuracy': 0.22602739726027396, 'eval_runtime': 0.1017, 'eval_samples_per_second': 1435.486, 'eval_steps_per_second': 98.321, 'epoch': 4.0}\n"
     ]
    },
    {
     "data": {
      "application/vnd.jupyter.widget-view+json": {
       "model_id": "da68e77a8a834e6e950c0e2116654fbb",
       "version_major": 2,
       "version_minor": 0
      },
      "text/plain": [
       "  0%|          | 0/10 [00:00<?, ?it/s]"
      ]
     },
     "metadata": {},
     "output_type": "display_data"
    },
    {
     "name": "stdout",
     "output_type": "stream",
     "text": [
      "{'eval_loss': 0.27425315976142883, 'eval_f1': 0.2918918918918919, 'eval_roc_auc': 0.5863945152124274, 'eval_accuracy': 0.18493150684931506, 'eval_runtime': 0.1083, 'eval_samples_per_second': 1347.665, 'eval_steps_per_second': 92.306, 'epoch': 5.0}\n"
     ]
    },
    {
     "data": {
      "application/vnd.jupyter.widget-view+json": {
       "model_id": "2b3e82db0b1a45129f4c111d8fcab330",
       "version_major": 2,
       "version_minor": 0
      },
      "text/plain": [
       "  0%|          | 0/10 [00:00<?, ?it/s]"
      ]
     },
     "metadata": {},
     "output_type": "display_data"
    },
    {
     "name": "stdout",
     "output_type": "stream",
     "text": [
      "{'eval_loss': 0.2662460505962372, 'eval_f1': 0.3191489361702127, 'eval_roc_auc': 0.5963282900468644, 'eval_accuracy': 0.19863013698630136, 'eval_runtime': 0.0847, 'eval_samples_per_second': 1723.35, 'eval_steps_per_second': 118.038, 'epoch': 6.0}\n",
      "{'loss': 0.2759, 'learning_rate': 1.75609756097561e-05, 'epoch': 6.1}\n"
     ]
    },
    {
     "data": {
      "application/vnd.jupyter.widget-view+json": {
       "model_id": "2d4e62d89fc04a5a8d7b1d48733a76ca",
       "version_major": 2,
       "version_minor": 0
      },
      "text/plain": [
       "  0%|          | 0/10 [00:00<?, ?it/s]"
      ]
     },
     "metadata": {},
     "output_type": "display_data"
    },
    {
     "name": "stdout",
     "output_type": "stream",
     "text": [
      "{'eval_loss': 0.2525421679019928, 'eval_f1': 0.4205607476635514, 'eval_roc_auc': 0.6412680154658253, 'eval_accuracy': 0.3013698630136986, 'eval_runtime': 0.089, 'eval_samples_per_second': 1640.028, 'eval_steps_per_second': 112.331, 'epoch': 7.0}\n"
     ]
    },
    {
     "data": {
      "application/vnd.jupyter.widget-view+json": {
       "model_id": "e8d9d04934a14b3ebcfd3c6ddc632470",
       "version_major": 2,
       "version_minor": 0
      },
      "text/plain": [
       "  0%|          | 0/10 [00:00<?, ?it/s]"
      ]
     },
     "metadata": {},
     "output_type": "display_data"
    },
    {
     "name": "stdout",
     "output_type": "stream",
     "text": [
      "{'eval_loss': 0.25411951541900635, 'eval_f1': 0.4678899082568808, 'eval_roc_auc': 0.6619954103625585, 'eval_accuracy': 0.3493150684931507, 'eval_runtime': 0.0852, 'eval_samples_per_second': 1713.091, 'eval_steps_per_second': 117.335, 'epoch': 8.0}\n"
     ]
    },
    {
     "data": {
      "application/vnd.jupyter.widget-view+json": {
       "model_id": "6325b92d734c41cda07d4991cd725c14",
       "version_major": 2,
       "version_minor": 0
      },
      "text/plain": [
       "  0%|          | 0/10 [00:00<?, ?it/s]"
      ]
     },
     "metadata": {},
     "output_type": "display_data"
    },
    {
     "name": "stdout",
     "output_type": "stream",
     "text": [
      "{'eval_loss': 0.24974483251571655, 'eval_f1': 0.4705882352941176, 'eval_roc_auc': 0.6644468234128452, 'eval_accuracy': 0.3561643835616438, 'eval_runtime': 0.0849, 'eval_samples_per_second': 1719.204, 'eval_steps_per_second': 117.754, 'epoch': 9.0}\n",
      "{'loss': 0.2265, 'learning_rate': 1.6341463414634145e-05, 'epoch': 9.15}\n"
     ]
    },
    {
     "data": {
      "application/vnd.jupyter.widget-view+json": {
       "model_id": "d5b2e4e11bc24b808a009fd8e4c661cf",
       "version_major": 2,
       "version_minor": 0
      },
      "text/plain": [
       "  0%|          | 0/10 [00:00<?, ?it/s]"
      ]
     },
     "metadata": {},
     "output_type": "display_data"
    },
    {
     "name": "stdout",
     "output_type": "stream",
     "text": [
      "{'eval_loss': 0.2530432343482971, 'eval_f1': 0.5286343612334802, 'eval_roc_auc': 0.6917967348658698, 'eval_accuracy': 0.3904109589041096, 'eval_runtime': 0.1282, 'eval_samples_per_second': 1139.129, 'eval_steps_per_second': 78.023, 'epoch': 10.0}\n"
     ]
    },
    {
     "data": {
      "application/vnd.jupyter.widget-view+json": {
       "model_id": "1da8e20b0a16409d8198d4f8716d8f6a",
       "version_major": 2,
       "version_minor": 0
      },
      "text/plain": [
       "  0%|          | 0/10 [00:00<?, ?it/s]"
      ]
     },
     "metadata": {},
     "output_type": "display_data"
    },
    {
     "name": "stdout",
     "output_type": "stream",
     "text": [
      "{'eval_loss': 0.2480991780757904, 'eval_f1': 0.5423728813559322, 'eval_roc_auc': 0.7028921549088052, 'eval_accuracy': 0.4178082191780822, 'eval_runtime': 0.0992, 'eval_samples_per_second': 1471.901, 'eval_steps_per_second': 100.815, 'epoch': 11.0}\n"
     ]
    },
    {
     "data": {
      "application/vnd.jupyter.widget-view+json": {
       "model_id": "7891955b6dca4d8593a188d0759c5d35",
       "version_major": 2,
       "version_minor": 0
      },
      "text/plain": [
       "  0%|          | 0/10 [00:00<?, ?it/s]"
      ]
     },
     "metadata": {},
     "output_type": "display_data"
    },
    {
     "name": "stdout",
     "output_type": "stream",
     "text": [
      "{'eval_loss': 0.2420458346605301, 'eval_f1': 0.5668016194331983, 'eval_roc_auc': 0.7206100915080318, 'eval_accuracy': 0.4589041095890411, 'eval_runtime': 0.1144, 'eval_samples_per_second': 1276.246, 'eval_steps_per_second': 87.414, 'epoch': 12.0}\n",
      "{'loss': 0.1874, 'learning_rate': 1.5121951219512196e-05, 'epoch': 12.2}\n"
     ]
    },
    {
     "data": {
      "application/vnd.jupyter.widget-view+json": {
       "model_id": "cc658ef8d981481ca92df516574401b6",
       "version_major": 2,
       "version_minor": 0
      },
      "text/plain": [
       "  0%|          | 0/10 [00:00<?, ?it/s]"
      ]
     },
     "metadata": {},
     "output_type": "display_data"
    },
    {
     "name": "stdout",
     "output_type": "stream",
     "text": [
      "{'eval_loss': 0.251828134059906, 'eval_f1': 0.5770750988142291, 'eval_roc_auc': 0.7292540985006805, 'eval_accuracy': 0.4794520547945205, 'eval_runtime': 0.1069, 'eval_samples_per_second': 1366.381, 'eval_steps_per_second': 93.588, 'epoch': 13.0}\n"
     ]
    },
    {
     "data": {
      "application/vnd.jupyter.widget-view+json": {
       "model_id": "32f698c79854428694ee6740cba7602e",
       "version_major": 2,
       "version_minor": 0
      },
      "text/plain": [
       "  0%|          | 0/10 [00:00<?, ?it/s]"
      ]
     },
     "metadata": {},
     "output_type": "display_data"
    },
    {
     "name": "stdout",
     "output_type": "stream",
     "text": [
      "{'eval_loss': 0.23964323103427887, 'eval_f1': 0.5714285714285714, 'eval_roc_auc': 0.7259428402225346, 'eval_accuracy': 0.4726027397260274, 'eval_runtime': 0.1045, 'eval_samples_per_second': 1397.001, 'eval_steps_per_second': 95.685, 'epoch': 14.0}\n"
     ]
    },
    {
     "data": {
      "application/vnd.jupyter.widget-view+json": {
       "model_id": "4327cffa90d84b2ba782b9544a69cf9f",
       "version_major": 2,
       "version_minor": 0
      },
      "text/plain": [
       "  0%|          | 0/10 [00:00<?, ?it/s]"
      ]
     },
     "metadata": {},
     "output_type": "display_data"
    },
    {
     "name": "stdout",
     "output_type": "stream",
     "text": [
      "{'eval_loss': 0.24460983276367188, 'eval_f1': 0.5900383141762453, 'eval_roc_auc': 0.7407794411575453, 'eval_accuracy': 0.5068493150684932, 'eval_runtime': 0.117, 'eval_samples_per_second': 1248.226, 'eval_steps_per_second': 85.495, 'epoch': 15.0}\n",
      "{'loss': 0.1581, 'learning_rate': 1.3902439024390244e-05, 'epoch': 15.24}\n"
     ]
    },
    {
     "data": {
      "application/vnd.jupyter.widget-view+json": {
       "model_id": "dc52a287d0d343f3931170f64e755580",
       "version_major": 2,
       "version_minor": 0
      },
      "text/plain": [
       "  0%|          | 0/10 [00:00<?, ?it/s]"
      ]
     },
     "metadata": {},
     "output_type": "display_data"
    },
    {
     "name": "stdout",
     "output_type": "stream",
     "text": [
      "{'eval_loss': 0.25115257501602173, 'eval_f1': 0.5735849056603773, 'eval_roc_auc': 0.7353185698097521, 'eval_accuracy': 0.5, 'eval_runtime': 0.1163, 'eval_samples_per_second': 1255.298, 'eval_steps_per_second': 85.979, 'epoch': 16.0}\n"
     ]
    },
    {
     "data": {
      "application/vnd.jupyter.widget-view+json": {
       "model_id": "97aac0325b6641859196d399011f5446",
       "version_major": 2,
       "version_minor": 0
      },
      "text/plain": [
       "  0%|          | 0/10 [00:00<?, ?it/s]"
      ]
     },
     "metadata": {},
     "output_type": "display_data"
    },
    {
     "name": "stdout",
     "output_type": "stream",
     "text": [
      "{'eval_loss': 0.2502478361129761, 'eval_f1': 0.5846153846153845, 'eval_roc_auc': 0.7374681828793995, 'eval_accuracy': 0.5, 'eval_runtime': 0.0875, 'eval_samples_per_second': 1667.838, 'eval_steps_per_second': 114.235, 'epoch': 17.0}\n"
     ]
    },
    {
     "data": {
      "application/vnd.jupyter.widget-view+json": {
       "model_id": "6163e7ef62694984b5e89d40a2e579a2",
       "version_major": 2,
       "version_minor": 0
      },
      "text/plain": [
       "  0%|          | 0/10 [00:00<?, ?it/s]"
      ]
     },
     "metadata": {},
     "output_type": "display_data"
    },
    {
     "name": "stdout",
     "output_type": "stream",
     "text": [
      "{'eval_loss': 0.2510429918766022, 'eval_f1': 0.5823754789272031, 'eval_roc_auc': 0.73703826026547, 'eval_accuracy': 0.5, 'eval_runtime': 0.0982, 'eval_samples_per_second': 1486.677, 'eval_steps_per_second': 101.827, 'epoch': 18.0}\n",
      "{'loss': 0.1367, 'learning_rate': 1.2682926829268294e-05, 'epoch': 18.29}\n"
     ]
    },
    {
     "data": {
      "application/vnd.jupyter.widget-view+json": {
       "model_id": "a141b821329f4633b99c150b5ac4d91d",
       "version_major": 2,
       "version_minor": 0
      },
      "text/plain": [
       "  0%|          | 0/10 [00:00<?, ?it/s]"
      ]
     },
     "metadata": {},
     "output_type": "display_data"
    },
    {
     "name": "stdout",
     "output_type": "stream",
     "text": [
      "{'eval_loss': 0.24706126749515533, 'eval_f1': 0.5977859778597785, 'eval_roc_auc': 0.751444938586551, 'eval_accuracy': 0.5273972602739726, 'eval_runtime': 0.0837, 'eval_samples_per_second': 1744.933, 'eval_steps_per_second': 119.516, 'epoch': 19.0}\n"
     ]
    },
    {
     "data": {
      "application/vnd.jupyter.widget-view+json": {
       "model_id": "d153bc8b4a1d4d2ba2773f9239963fa6",
       "version_major": 2,
       "version_minor": 0
      },
      "text/plain": [
       "  0%|          | 0/10 [00:00<?, ?it/s]"
      ]
     },
     "metadata": {},
     "output_type": "display_data"
    },
    {
     "name": "stdout",
     "output_type": "stream",
     "text": [
      "{'eval_loss': 0.2507360279560089, 'eval_f1': 0.5917602996254682, 'eval_roc_auc': 0.7456822672581187, 'eval_accuracy': 0.5205479452054794, 'eval_runtime': 0.1115, 'eval_samples_per_second': 1309.61, 'eval_steps_per_second': 89.699, 'epoch': 20.0}\n"
     ]
    },
    {
     "data": {
      "application/vnd.jupyter.widget-view+json": {
       "model_id": "6c0e2188d4e54133bc0d9da0f98cb1e9",
       "version_major": 2,
       "version_minor": 0
      },
      "text/plain": [
       "  0%|          | 0/10 [00:00<?, ?it/s]"
      ]
     },
     "metadata": {},
     "output_type": "display_data"
    },
    {
     "name": "stdout",
     "output_type": "stream",
     "text": [
      "{'eval_loss': 0.25056901574134827, 'eval_f1': 0.5917602996254682, 'eval_roc_auc': 0.7456822672581187, 'eval_accuracy': 0.5205479452054794, 'eval_runtime': 0.0967, 'eval_samples_per_second': 1510.592, 'eval_steps_per_second': 103.465, 'epoch': 21.0}\n",
      "{'loss': 0.1193, 'learning_rate': 1.1463414634146342e-05, 'epoch': 21.34}\n"
     ]
    },
    {
     "data": {
      "application/vnd.jupyter.widget-view+json": {
       "model_id": "fa29314fbcd640418a4b5bee158707f2",
       "version_major": 2,
       "version_minor": 0
      },
      "text/plain": [
       "  0%|          | 0/10 [00:00<?, ?it/s]"
      ]
     },
     "metadata": {},
     "output_type": "display_data"
    },
    {
     "name": "stdout",
     "output_type": "stream",
     "text": [
      "{'eval_loss': 0.25835105776786804, 'eval_f1': 0.5947955390334573, 'eval_roc_auc': 0.7485636029223349, 'eval_accuracy': 0.5273972602739726, 'eval_runtime': 0.0822, 'eval_samples_per_second': 1775.181, 'eval_steps_per_second': 121.588, 'epoch': 22.0}\n"
     ]
    },
    {
     "data": {
      "application/vnd.jupyter.widget-view+json": {
       "model_id": "98f6ff445e484f8892fedb7795adacb3",
       "version_major": 2,
       "version_minor": 0
      },
      "text/plain": [
       "  0%|          | 0/10 [00:00<?, ?it/s]"
      ]
     },
     "metadata": {},
     "output_type": "display_data"
    },
    {
     "name": "stdout",
     "output_type": "stream",
     "text": [
      "{'eval_loss': 0.25531327724456787, 'eval_f1': 0.6, 'eval_roc_auc': 0.7518748612004805, 'eval_accuracy': 0.5342465753424658, 'eval_runtime': 0.098, 'eval_samples_per_second': 1489.531, 'eval_steps_per_second': 102.023, 'epoch': 23.0}\n"
     ]
    },
    {
     "data": {
      "application/vnd.jupyter.widget-view+json": {
       "model_id": "2f24a73376cb487eb997d53a0f1f529b",
       "version_major": 2,
       "version_minor": 0
      },
      "text/plain": [
       "  0%|          | 0/10 [00:00<?, ?it/s]"
      ]
     },
     "metadata": {},
     "output_type": "display_data"
    },
    {
     "name": "stdout",
     "output_type": "stream",
     "text": [
      "{'eval_loss': 0.25482994318008423, 'eval_f1': 0.6029411764705882, 'eval_roc_auc': 0.7547561968646969, 'eval_accuracy': 0.541095890410959, 'eval_runtime': 0.0835, 'eval_samples_per_second': 1747.741, 'eval_steps_per_second': 119.708, 'epoch': 24.0}\n",
      "{'train_runtime': 235.5015, 'train_samples_per_second': 556.047, 'train_steps_per_second': 34.819, 'train_loss': 0.20183407485000487, 'epoch': 24.0}\n"
     ]
    },
    {
     "data": {
      "text/plain": [
       "TrainOutput(global_step=3936, training_loss=0.20183407485000487, metrics={'train_runtime': 235.5015, 'train_samples_per_second': 556.047, 'train_steps_per_second': 34.819, 'train_loss': 0.20183407485000487, 'epoch': 24.0})"
      ]
     },
     "execution_count": 21,
     "metadata": {},
     "output_type": "execute_result"
    }
   ],
   "source": [
    "trainer.train()"
   ]
  },
  {
   "cell_type": "code",
   "execution_count": 22,
   "metadata": {},
   "outputs": [
    {
     "name": "stdout",
     "output_type": "stream",
     "text": [
      "['c#']\n"
     ]
    }
   ],
   "source": [
    "text = dataset['test']['TITLE'][0]\n",
    "\n",
    "encoding = tokenizer(text, return_tensors=\"pt\")\n",
    "encoding = {k: v.to(trainer.model.device) for k,v in encoding.items()}\n",
    "\n",
    "outputs = trainer.model(**encoding)\n",
    "logits = outputs.logits\n",
    "\n",
    "# apply sigmoid + threshold\n",
    "sigmoid = torch.nn.Sigmoid()\n",
    "probs = sigmoid(logits.squeeze().cpu())\n",
    "predictions = np.zeros(probs.shape)\n",
    "predictions[np.where(probs >= 0.5)] = 1\n",
    "# turn predicted id's into actual label names\n",
    "predicted_labels = [id2label[idx] for idx, label in enumerate(predictions) if label == 1.0]\n",
    "print(predicted_labels)"
   ]
  },
  {
   "cell_type": "code",
   "execution_count": 20,
   "metadata": {},
   "outputs": [],
   "source": [
    "def optuna_hp_space(trial):\n",
    "\n",
    "    return {\n",
    "        \"learning_rate\":\n",
    "        trial.suggest_float(\"learning_rate\", 1e-6, 1e-4, log=True),\n",
    "        \"per_device_train_batch_size\":\n",
    "        trial.suggest_categorical(\"per_device_train_batch_size\",\n",
    "                                  [16, 32, 64, 128]),\n",
    "        \"weight_decay\":\n",
    "        trial.suggest_float(\"weight_decay\", 0.005, 0.06)\n",
    "    }\n",
    "\n",
    "\n",
    "def model_init(trial):\n",
    "    return AutoModelForSequenceClassification.from_pretrained(\n",
    "        model_name,\n",
    "        problem_type=\"multi_label_classification\",\n",
    "        num_labels=len(labels),\n",
    "        id2label=id2label,\n",
    "        label2id=label2id)"
   ]
  },
  {
   "cell_type": "code",
   "execution_count": 21,
   "metadata": {},
   "outputs": [
    {
     "name": "stderr",
     "output_type": "stream",
     "text": [
      "/home/ad/mambaforge/envs/stack/lib/python3.10/site-packages/transformers/trainer.py:359: FutureWarning: `Trainer` requires either a `model` or `model_init` argument, but not both. `model_init` will overwrite your model when calling the `train` method. This will become a fatal error in the next release.\n",
      "  warnings.warn(\n",
      "You are adding a <class 'transformers.integrations.TensorBoardCallback'> to the callbacks of this Trainer, but there is already one. The currentlist of callbacks is\n",
      ":DefaultFlowCallback\n",
      "TensorBoardCallback\n",
      "EarlyStoppingCallback\n"
     ]
    }
   ],
   "source": [
    "trainer = Trainer(model,\n",
    "                  args,\n",
    "                  train_dataset=encoded_dataset[\"train\"],\n",
    "                  eval_dataset=encoded_dataset[\"test\"],\n",
    "                  tokenizer=tokenizer,\n",
    "                  compute_metrics=compute_metrics,\n",
    "                  model_init=model_init,\n",
    "                  callbacks=[\n",
    "                      EarlyStoppingCallback(early_stopping_patience=10),\n",
    "                      TensorBoardCallback()\n",
    "                  ])"
   ]
  },
  {
   "cell_type": "code",
   "execution_count": null,
   "metadata": {},
   "outputs": [],
   "source": [
    "best_trial = trainer.hyperparameter_search(\n",
    "    direction=\"maximize\",\n",
    "    backend=\"optuna\",\n",
    "    hp_space=optuna_hp_space,\n",
    "    n_trials=10,\n",
    "    study_name=f\"{model_name}-optimization\",\n",
    "    load_if_exists=True,\n",
    ")"
   ]
  }
 ],
 "metadata": {
  "kernelspec": {
   "display_name": "stack",
   "language": "python",
   "name": "python3"
  },
  "language_info": {
   "codemirror_mode": {
    "name": "ipython",
    "version": 3
   },
   "file_extension": ".py",
   "mimetype": "text/x-python",
   "name": "python",
   "nbconvert_exporter": "python",
   "pygments_lexer": "ipython3",
   "version": "3.10.11"
  },
  "orig_nbformat": 4
 },
 "nbformat": 4,
 "nbformat_minor": 2
}
